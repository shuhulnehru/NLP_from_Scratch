{
  "nbformat": 4,
  "nbformat_minor": 0,
  "metadata": {
    "colab": {
      "provenance": []
    },
    "kernelspec": {
      "name": "python3",
      "display_name": "Python 3"
    },
    "language_info": {
      "name": "python"
    }
  },
  "cells": [
    {
      "cell_type": "code",
      "execution_count": 8,
      "metadata": {
        "id": "00hi5RDaOQWe"
      },
      "outputs": [],
      "source": [
        "import pandas as pd\n",
        "import math"
      ]
    },
    {
      "cell_type": "code",
      "source": [
        "Document_1 = \"It is going to rain today\"\n",
        "Document_2 = \"Today I am not going outside\"\n",
        "Document_3 = \"I am going to watch the season premiere\""
      ],
      "metadata": {
        "id": "UVIpxKkuOb90"
      },
      "execution_count": 9,
      "outputs": []
    },
    {
      "cell_type": "code",
      "source": [
        "documents = [Document_1, Document_2, Document_3]"
      ],
      "metadata": {
        "id": "1-nzLOwVXZfZ"
      },
      "execution_count": 10,
      "outputs": []
    },
    {
      "cell_type": "code",
      "source": [
        "def term_frequency(document):\n",
        "    tf = {}\n",
        "    words = document.split()\n",
        "    total_number_of_words = len(words)\n",
        "    for word in words:\n",
        "        tf[word] = tf.get(word, 0) + 1\n",
        "    for word in tf:\n",
        "        tf[word] = tf[word] / total_number_of_words\n",
        "    return tf"
      ],
      "metadata": {
        "id": "tNjb3DNoO_jg"
      },
      "execution_count": 11,
      "outputs": []
    },
    {
      "cell_type": "code",
      "source": [
        "def document_frequency(documents):\n",
        "    df = {}\n",
        "    for document in documents:\n",
        "        for word in set(document.split()):\n",
        "            df[word] = df.get(word, 0) + 1\n",
        "    return df"
      ],
      "metadata": {
        "id": "7fZF_3fsWh8_"
      },
      "execution_count": 12,
      "outputs": []
    },
    {
      "cell_type": "code",
      "source": [
        "def idf(df, N):\n",
        "    idf = {}\n",
        "    for word, count in df.items():\n",
        "        idf[word] = math.log(N / count, 10)\n",
        "    return idf"
      ],
      "metadata": {
        "id": "K_7ZSKADiq6B"
      },
      "execution_count": 13,
      "outputs": []
    },
    {
      "cell_type": "code",
      "source": [
        "def tf_idf(documents):\n",
        "    df = document_frequency(documents)\n",
        "    total_documents = len(documents)\n",
        "    idf_val = idf(df, total_documents)\n",
        "    tf_idf_scores = []\n",
        "    for doc in documents:\n",
        "        doc_tf = term_frequency(doc)\n",
        "        tf_idf_sc = {word: doc_tf.get(word, 0) * idf_val[word] for word in doc.split()}\n",
        "        tf_idf_scores.append(tf_idf_sc)\n",
        "    return tf_idf_scores"
      ],
      "metadata": {
        "id": "-_mpjmpEMf1c"
      },
      "execution_count": 14,
      "outputs": []
    },
    {
      "cell_type": "code",
      "source": [
        "tf_idf_scores = tf_idf(documents)\n",
        "print(tf_idf_scores)"
      ],
      "metadata": {
        "colab": {
          "base_uri": "https://localhost:8080/"
        },
        "id": "i1W4vdw0QKYP",
        "outputId": "8411dcce-9d6f-43af-93cb-8631ec060ef9"
      },
      "execution_count": 15,
      "outputs": [
        {
          "output_type": "stream",
          "name": "stdout",
          "text": [
            "[{'It': 0.07952020911994373, 'is': 0.07952020911994373, 'going': 0.0, 'to': 0.029348543175946873, 'rain': 0.07952020911994373, 'today': 0.07952020911994373}, {'Today': 0.07952020911994373, 'I': 0.029348543175946873, 'am': 0.029348543175946873, 'not': 0.07952020911994373, 'going': 0.0, 'outside': 0.07952020911994373}, {'I': 0.022011407381960155, 'am': 0.022011407381960155, 'going': 0.0, 'to': 0.022011407381960155, 'watch': 0.059640156839957804, 'the': 0.059640156839957804, 'season': 0.059640156839957804, 'premiere': 0.059640156839957804}]\n"
          ]
        }
      ]
    }
  ]
}